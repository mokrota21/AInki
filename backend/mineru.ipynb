{
 "cells": [
  {
   "cell_type": "code",
   "execution_count": null,
   "id": "a8b4be17",
   "metadata": {},
   "outputs": [],
   "source": [
    "mineru -p input.pdf -o output_folder -m txt -l en -d cuda --vram 5"
   ]
  }
 ],
 "metadata": {
  "kernelspec": {
   "display_name": ".venv",
   "language": "python",
   "name": "python3"
  },
  "language_info": {
   "name": "python",
   "version": "3.12.7"
  }
 },
 "nbformat": 4,
 "nbformat_minor": 5
}
