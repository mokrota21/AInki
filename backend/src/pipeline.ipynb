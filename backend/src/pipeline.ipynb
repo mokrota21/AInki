{
 "cells": [
  {
   "cell_type": "code",
   "execution_count": 1,
   "id": "884bc35f",
   "metadata": {},
   "outputs": [
    {
     "name": "stdout",
     "output_type": "stream",
     "text": [
      "<class 'abc.ABCMeta'>\n"
     ]
    }
   ],
   "source": [
    "from file_reader import DefaultReader\n",
    "print(str(type(DefaultReader)))"
   ]
  },
  {
   "cell_type": "code",
   "execution_count": 1,
   "id": "cdc793e9",
   "metadata": {},
   "outputs": [
    {
     "name": "stdout",
     "output_type": "stream",
     "text": [
      "✅ Successfully connected to Neo4j!\n"
     ]
    }
   ],
   "source": [
    "from object_extractor import insert_objects, extract_objects_from_chunks\n",
    "from chunker import DefaultChunker\n",
    "from file_reader import DefaultReader\n",
    "from docs_db import insert_doc\n",
    "from chunk_db import insert_chunk\n"
   ]
  },
  {
   "cell_type": "code",
   "execution_count": 2,
   "id": "3f56b4be",
   "metadata": {},
   "outputs": [],
   "source": [
    "import os\n",
    "from fastapi import UploadFile\n",
    "\n",
    "file_path = os.path.abspath(r\"C:\\torrent\\1664976801-pages (1).pdf\")\n",
    "with open(file_path, \"rb\") as f:\n",
    "    file = UploadFile(\n",
    "        file=f,\n",
    "        filename=os.path.basename(file_path),\n",
    "        size=os.path.getsize(file_path),\n",
    "        headers={\"content-type\": \"application/pdf\"}\n",
    "    )\n"
   ]
  },
  {
   "cell_type": "code",
   "execution_count": 3,
   "id": "27fd8d02",
   "metadata": {},
   "outputs": [],
   "source": [
    "# # Step 1: Insert document into database\n",
    "# doc_id = insert_doc(file)"
   ]
  },
  {
   "cell_type": "code",
   "execution_count": null,
   "id": "85dd6687",
   "metadata": {},
   "outputs": [],
   "source": [
    "# Step 1: Read document\n",
    "reader = DefaultReader()\n",
    "with open(file_path, \"rb\") as f:\n",
    "    result = reader.read_file(f)\n",
    "    text = result[\"content\"]"
   ]
  },
  {
   "cell_type": "code",
   "execution_count": 5,
   "id": "8f3ba932",
   "metadata": {},
   "outputs": [],
   "source": [
    "# Step 2: Chunk document\n",
    "chunker = DefaultChunker()\n",
    "chunks = chunker.chunk(text)"
   ]
  },
  {
   "cell_type": "code",
   "execution_count": 6,
   "id": "921a6cfb",
   "metadata": {},
   "outputs": [
    {
     "data": {
      "text/plain": [
       "['Why is 0 .999...the\\nsame number as 1?',\n",
       " 'What is the smallest positive real number?',\n",
       " 'Isn’t\\nit just 0 .00...001?',\n",
       " 'So to set aside these problems, we will not try to\\nassume any knowledge of the decimal system, though we will of course\\nstill refer to numbers by their familiar names such as 1,2,3, etc. instead\\nof using other notation such as I,II,III or 0+ +, (0+ +)+ +, ((0+ +)+ +)+ +(see below) so as not to be needlessly artiﬁcial.',\n",
       " 'For completeness, wereview the decimal system in an Appendix ( §B).\\n2.1 The Peano axioms\\nWe now present one standard way to deﬁne the natural numbers, interms of the Peano axioms , which were ﬁrst laid out by Guiseppe Peano\\n(1858–1932).',\n",
       " 'This is not the only way to deﬁne the natural numbers.For instance, another approach is to talk about the cardinality of ﬁnite\\nsets, for instance one could take a set of ﬁve elements and deﬁne 5 to be\\nthe number of elements in that set.',\n",
       " 'We shall discuss this alternate ap-proach in Section 3.6.',\n",
       " 'However, we shall stick with the Peano axiomaticapproach for now.',\n",
       " 'How are we to deﬁne what the natural numbers are?',\n",
       " 'Informally, we\\ncould say\\nDeﬁnition 2.1.1. (Informal) A natural number is any element of the\\nset\\nN:={0,1,2,3,4,...},\\nwhich is the set of all the numbers created by starting with 0 and then\\ncounting forward indeﬁnitely.',\n",
       " 'We call Ntheset of natural numbers .',\n",
       " 'Remark 2.1.2.',\n",
       " 'In some texts the natural numbers start at 1 instead of\\n0, but this is a matter of notational convention more than anything else.In this text we shall refer to the set {1,2,3,...}as the positive integers\\nZ\\n+rather than the natural numbers.',\n",
       " 'Natural numbers are sometimes\\nalso known as whole numbers .',\n",
       " 'In a sense, this deﬁnition solves the problem of what the natural\\nnumbers are: a natural number is any element of the set1N.',\n",
       " 'However,\\n1Strictly speaking, there is another problem with this informal deﬁnition: we have\\nnot yet deﬁned what a “set” is, or what “element of” is.',\n",
       " 'Thus for the rest of this\\nchapter we shall avoid mention of sets and their elements as much as possible, except\\nin informal discussion. 16 2.',\n",
       " 'Starting at the beginning: the natural numbers\\nit is not really that satisfactory, because it begs the question of what\\nNis.',\n",
       " 'This deﬁnition of “start at 0 and count indeﬁnitely” seems like\\nan intuitive enough deﬁnition of N, but it is not entirely acceptable,\\nbecause it leaves many questions unanswered.',\n",
       " 'For instance: how dowe know we can keep counting indeﬁnitely, without cycling back to 0?']"
      ]
     },
     "execution_count": 6,
     "metadata": {},
     "output_type": "execute_result"
    }
   ],
   "source": [
    "chunks[30:50]"
   ]
  },
  {
   "cell_type": "code",
   "execution_count": 7,
   "id": "7d4a9049",
   "metadata": {},
   "outputs": [],
   "source": [
    "# Step 3: Process chunks\n",
    "import json\n",
    "chunks_ids = [(chunk, idx) for idx, chunk in enumerate(chunks[30:50])]\n",
    "# objects = extract_objects_from_chunks(chunks_ids, doc_id=0)\n",
    "# with open(\"save.json\", \"w\") as f:\n",
    "    # json.dump(objects, f, indent=2)\n",
    "with open(\"save.json\", \"r\") as f:\n",
    "    objects = json.load(f)"
   ]
  },
  {
   "cell_type": "code",
   "execution_count": 8,
   "id": "38ae1e14",
   "metadata": {},
   "outputs": [
    {
     "data": {
      "text/plain": [
       "True"
      ]
     },
     "execution_count": 8,
     "metadata": {},
     "output_type": "execute_result"
    }
   ],
   "source": [
    "# Step 4: Insert all info in databases\n",
    "\n",
    "# Doc in db\n",
    "doc_id = insert_doc(file)\n",
    "\n",
    "# Chunks in db\n",
    "for order_idx, chunk in enumerate(chunks):\n",
    "    insert_chunk(chunk, doc_id, order_idx)\n",
    "\n",
    "for object in objects:\n",
    "    object[\"doc_id\"] = doc_id\n",
    "# Objects in db\n",
    "insert_objects(objects)"
   ]
  }
 ],
 "metadata": {
  "kernelspec": {
   "display_name": ".venv",
   "language": "python",
   "name": "python3"
  },
  "language_info": {
   "codemirror_mode": {
    "name": "ipython",
    "version": 3
   },
   "file_extension": ".py",
   "mimetype": "text/x-python",
   "name": "python",
   "nbconvert_exporter": "python",
   "pygments_lexer": "ipython3",
   "version": "3.12.7"
  }
 },
 "nbformat": 4,
 "nbformat_minor": 5
}
