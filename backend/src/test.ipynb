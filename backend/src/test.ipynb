{
 "cells": [
  {
   "cell_type": "code",
   "execution_count": 1,
   "id": "c1fc4c17",
   "metadata": {},
   "outputs": [],
   "source": [
    "from neo4j import GraphDatabase\n",
    "from dotenv import load_dotenv\n",
    "import os\n",
    "load_dotenv()\n",
    "\n",
    "URI = \"neo4j+s://e5703e68.databases.neo4j.io\"\n",
    "AUTH = (os.getenv(\"NEO4J_USERNAME\"), os.getenv(\"NEO4J_PASSWORD\"))"
   ]
  },
  {
   "cell_type": "code",
   "execution_count": 6,
   "id": "10914007",
   "metadata": {},
   "outputs": [
    {
     "name": "stdout",
     "output_type": "stream",
     "text": [
      "True\n",
      "None\n"
     ]
    }
   ],
   "source": [
    "driver = GraphDatabase.driver(URI, auth=AUTH)\n",
    "print(driver.verify_authentication())\n",
    "print(driver.verify_connectivity())"
   ]
  },
  {
   "cell_type": "code",
   "execution_count": 7,
   "id": "8ef814f2",
   "metadata": {},
   "outputs": [
    {
     "name": "stdout",
     "output_type": "stream",
     "text": [
      "Created 2 nodes in 1 ms.\n"
     ]
    }
   ],
   "source": [
    "summary = driver.execute_query(\"\"\"\n",
    "    CREATE (a:Person {name: $name})\n",
    "    CREATE (b:Person {name: $friendName})\n",
    "    CREATE (a)-[:KNOWS]->(b)\n",
    "    \"\"\",\n",
    "    name=\"Alice\", friendName=\"David\",\n",
    "    database_=\"e5703e68\",\n",
    ").summary\n",
    "print(\"Created {nodes_created} nodes in {time} ms.\".format(\n",
    "    nodes_created=summary.counters.nodes_created,\n",
    "    time=summary.result_available_after\n",
    "))"
   ]
  },
  {
   "cell_type": "code",
   "execution_count": 12,
   "id": "90fe2a06",
   "metadata": {},
   "outputs": [
    {
     "name": "stdout",
     "output_type": "stream",
     "text": [
      "{'name': 'Alice', 'know_name': 'David'}\n",
      "The query `\n",
      "    MATCH (p:Person)-[:KNOWS]->(k:Person)\n",
      "    RETURN p.name AS name, k.name as know_name\n",
      "    ` returned 1 records in 1 ms.\n"
     ]
    }
   ],
   "source": [
    "records, summary, keys = driver.execute_query(\"\"\"\n",
    "    MATCH (p:Person)-[:KNOWS]->(k:Person)\n",
    "    RETURN p.name AS name, k.name as know_name\n",
    "    \"\"\",\n",
    "    database_=\"e5703e68\",\n",
    ")\n",
    "\n",
    "# Loop through results and do something with them\n",
    "for record in records:\n",
    "    print(record.data())  # obtain record as dict\n",
    "\n",
    "# Summary information\n",
    "print(\"The query `{query}` returned {records_count} records in {time} ms.\".format(\n",
    "    query=summary.query, records_count=len(records),\n",
    "    time=summary.result_available_after\n",
    "))"
   ]
  },
  {
   "cell_type": "code",
   "execution_count": null,
   "id": "96141672",
   "metadata": {},
   "outputs": [],
   "source": [
    "from neo4j import GraphDatabase\n",
    "from dotenv import load_dotenv\n",
    "import os\n",
    "load_dotenv()\n",
    "\n",
    "URI = os.getenv(\"NEO4J_URI\")\n",
    "AUTH = (os.getenv(\"NEO4J_USERNAME\"), os.getenv(\"NEO4J_PASSWORD\"))\n",
    "driver = GraphDatabase.driver(URI, auth=AUTH)\n",
    "\n",
    "driver.verify_connectivity()\n",
    "print(\"✅ Successfully connected to Neo4j!\")\n",
    "\n",
    "records, summary, keys = driver.execute_query(\"\"\"\n",
    "    MATCH (p)-[c]->(:Any)\n",
    "    RETURN p\n",
    "    \"\"\",\n",
    ")\n",
    "\n",
    "# Loop through results and do something with them\n",
    "for record in records:\n",
    "    print(record.data())  # obtain record as dict\n",
    "\n",
    "# Summary information\n",
    "print(\"The query `{query}` returned {records_count} records in {time} ms.\".format(\n",
    "    query=summary.query, records_count=len(records),\n",
    "    time=summary.result_available_after\n",
    "))"
   ]
  },
  {
   "cell_type": "markdown",
   "id": "75427371",
   "metadata": {},
   "source": [
    "# Langfuse"
   ]
  },
  {
   "cell_type": "code",
   "execution_count": 13,
   "id": "453b3708",
   "metadata": {},
   "outputs": [],
   "source": [
    "from langfuse.openai import AzureOpenAI\n",
    "from dotenv import load_dotenv\n",
    "import os\n",
    "load_dotenv()\n",
    "\n",
    "client = AzureOpenAI()\n",
    "model_name = os.getenv(\"MODEL_NAME\")\n",
    "\n",
    "response = client.chat.completions.create(\n",
    "            messages=[\n",
    "                {\n",
    "                    \"role\": \"user\",\n",
    "                    \"content\": \"What is the closest planet to earth?\"\n",
    "                }\n",
    "            ],\n",
    "            max_completion_tokens=10000,\n",
    "            model=model_name\n",
    "        )"
   ]
  },
  {
   "cell_type": "code",
   "execution_count": 14,
   "id": "eb82545d",
   "metadata": {},
   "outputs": [
    {
     "name": "stdout",
     "output_type": "stream",
     "text": [
      "Mercury.\n",
      "\n",
      "Reason: Although Venus is Earth's neighbor, Mercury spends more of the time closer to Earth on average because of the way the planets’ orbits line up around the Sun. Of course, the exact nearest planet can change with time; sometimes Venus or other planets can be closer at a given moment. But on average, Mercury is the closest planet to Earth.\n"
     ]
    }
   ],
   "source": [
    "print(response.choices[0].message.content)"
   ]
  },
  {
   "cell_type": "code",
   "execution_count": 15,
   "id": "ff6723dc",
   "metadata": {},
   "outputs": [],
   "source": [
    "from openai import AzureOpenAI\n",
    "\n",
    "client = AzureOpenAI()\n",
    "model_name = os.getenv(\"MODEL_NAME\")\n",
    "\n",
    "response = client.chat.completions.create(\n",
    "            messages=[\n",
    "                {\n",
    "                    \"role\": \"user\",\n",
    "                    \"content\": \"What is the closest planet to earth?\"\n",
    "                }\n",
    "            ],\n",
    "            max_completion_tokens=10000,\n",
    "            model=model_name\n",
    "        )"
   ]
  },
  {
   "cell_type": "code",
   "execution_count": 16,
   "id": "bd7345bd",
   "metadata": {},
   "outputs": [
    {
     "name": "stdout",
     "output_type": "stream",
     "text": [
      "('Venus. On average, Venus is the closest planet to Earth.\\n'\n",
      " '\\n'\n",
      " 'But it isn’t fixed: at any given moment the closest planet can be Venus, '\n",
      " 'Mercury, or Mars, because the planets are continually moving in their orbits '\n",
      " 'around the Sun. Also, the Moon is much closer, but it’s not a planet.')\n"
     ]
    }
   ],
   "source": [
    "from pprint import pprint\n",
    "pprint(response.choices[0].message.content)"
   ]
  },
  {
   "cell_type": "code",
   "execution_count": 1,
   "id": "eb2f5b05",
   "metadata": {},
   "outputs": [],
   "source": [
    "import numpy as np"
   ]
  },
  {
   "cell_type": "code",
   "execution_count": 26,
   "id": "e2f8b8b9",
   "metadata": {},
   "outputs": [],
   "source": [
    "types = []\n",
    "types_counts = []\n",
    "\n",
    "types_ar = np.array(types)\n",
    "types_counts_ar = np.array(types_counts)\n",
    "type_probability = 1 / (types_counts_ar * types_counts_ar)\n",
    "\n",
    "s = type_probability.sum()\n",
    "none_prob = 1 - s if s < 1 else 0\n",
    "\n",
    "type_probability = np.append(type_probability, none_prob)\n",
    "types_ar = np.append(types_ar, None)\n",
    "res =  np.random.choice(types_ar, p=type_probability)"
   ]
  },
  {
   "cell_type": "code",
   "execution_count": 29,
   "id": "d92ae778",
   "metadata": {},
   "outputs": [
    {
     "name": "stdout",
     "output_type": "stream",
     "text": [
      "None\n"
     ]
    }
   ],
   "source": [
    "res = \"qwe\" if res else None\n",
    "print(res)"
   ]
  },
  {
   "cell_type": "code",
   "execution_count": 27,
   "id": "8bda861e",
   "metadata": {},
   "outputs": [
    {
     "data": {
      "text/plain": [
       "(None, array([1.]))"
      ]
     },
     "execution_count": 27,
     "metadata": {},
     "output_type": "execute_result"
    }
   ],
   "source": [
    "res, type_probability"
   ]
  },
  {
   "cell_type": "code",
   "execution_count": null,
   "id": "dbf0b18a",
   "metadata": {},
   "outputs": [],
   "source": []
  }
 ],
 "metadata": {
  "kernelspec": {
   "display_name": ".venv",
   "language": "python",
   "name": "python3"
  },
  "language_info": {
   "codemirror_mode": {
    "name": "ipython",
    "version": 3
   },
   "file_extension": ".py",
   "mimetype": "text/x-python",
   "name": "python",
   "nbconvert_exporter": "python",
   "pygments_lexer": "ipython3",
   "version": "3.12.7"
  }
 },
 "nbformat": 4,
 "nbformat_minor": 5
}
