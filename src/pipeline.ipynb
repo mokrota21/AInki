{
 "cells": [
  {
   "cell_type": "code",
   "execution_count": 1,
   "id": "cdc793e9",
   "metadata": {},
   "outputs": [],
   "source": [
    "from object_extractor import process_chunks_and_store\n",
    "from chunker import DefaultChunker\n",
    "from file_reader import DefaultReader\n",
    "from docs_db import insert_doc\n",
    "from chunk_db import insert_chunk\n"
   ]
  },
  {
   "cell_type": "code",
   "execution_count": 2,
   "id": "3f56b4be",
   "metadata": {},
   "outputs": [],
   "source": [
    "import os\n",
    "from fastapi import UploadFile\n",
    "\n",
    "file_path = os.path.abspath(r\"C:\\torrent\\1664976801-pages.pdf\")\n",
    "with open(file_path, \"rb\") as f:\n",
    "    file = UploadFile(\n",
    "        file=f,\n",
    "        filename=file_path,\n",
    "        size=os.path.getsize(file_path),\n",
    "        headers={\"content-type\": \"application/pdf\"}\n",
    "    )\n"
   ]
  },
  {
   "cell_type": "code",
   "execution_count": 3,
   "id": "27fd8d02",
   "metadata": {},
   "outputs": [],
   "source": [
    "# Step 1: Insert document into database\n",
    "insert_doc(file)"
   ]
  },
  {
   "cell_type": "code",
   "execution_count": 4,
   "id": "85dd6687",
   "metadata": {},
   "outputs": [],
   "source": [
    "# Step 2: Read document\n",
    "reader = DefaultReader()\n",
    "with open(file_path, \"rb\") as f:\n",
    "    text = reader.read_file(f)"
   ]
  },
  {
   "cell_type": "code",
   "execution_count": 5,
   "id": "8f3ba932",
   "metadata": {},
   "outputs": [
    {
     "ename": "error",
     "evalue": "look-behind requires fixed-width pattern",
     "output_type": "error",
     "traceback": [
      "\u001b[31m---------------------------------------------------------------------------\u001b[39m",
      "\u001b[31merror\u001b[39m                                     Traceback (most recent call last)",
      "\u001b[36mCell\u001b[39m\u001b[36m \u001b[39m\u001b[32mIn[5]\u001b[39m\u001b[32m, line 3\u001b[39m\n\u001b[32m      1\u001b[39m \u001b[38;5;66;03m# Step 3: Chunk document\u001b[39;00m\n\u001b[32m      2\u001b[39m chunker = DefaultChunker()\n\u001b[32m----> \u001b[39m\u001b[32m3\u001b[39m chunks = \u001b[43mchunker\u001b[49m\u001b[43m.\u001b[49m\u001b[43mchunk\u001b[49m\u001b[43m(\u001b[49m\u001b[43mtext\u001b[49m\u001b[43m)\u001b[49m\n",
      "\u001b[36mFile \u001b[39m\u001b[32mc:\\Users\\mokrota\\Documents\\GitHub\\AInki\\src\\chunker.py:39\u001b[39m, in \u001b[36mSentenceChunker.chunk\u001b[39m\u001b[34m(self, text)\u001b[39m\n\u001b[32m     37\u001b[39m stop_symbols = \u001b[33m\"\u001b[39m\u001b[33m\"\u001b[39m.join(\u001b[38;5;28mself\u001b[39m.stop_symbols)\n\u001b[32m     38\u001b[39m pattern = \u001b[33mrf\u001b[39m\u001b[33m'\u001b[39m\u001b[33m(?<!\u001b[39m\u001b[38;5;132;01m{\u001b[39;00mabbreviations\u001b[38;5;132;01m}\u001b[39;00m\u001b[33m)([\u001b[39m\u001b[38;5;132;01m{\u001b[39;00mstop_symbols\u001b[38;5;132;01m}\u001b[39;00m\u001b[33m])\u001b[39m\u001b[33m\\\u001b[39m\u001b[33ms+(?=[A-Z])\u001b[39m\u001b[33m'\u001b[39m\n\u001b[32m---> \u001b[39m\u001b[32m39\u001b[39m chunks = \u001b[43mre\u001b[49m\u001b[43m.\u001b[49m\u001b[43msplit\u001b[49m\u001b[43m(\u001b[49m\u001b[43mpattern\u001b[49m\u001b[43m,\u001b[49m\u001b[43m \u001b[49m\u001b[43mtext\u001b[49m\u001b[43m)\u001b[49m\n\u001b[32m     41\u001b[39m result = []\n\u001b[32m     42\u001b[39m \u001b[38;5;28;01mfor\u001b[39;00m i \u001b[38;5;129;01min\u001b[39;00m \u001b[38;5;28mrange\u001b[39m(\u001b[32m0\u001b[39m, \u001b[38;5;28mlen\u001b[39m(chunks), \u001b[32m2\u001b[39m):\n",
      "\u001b[36mFile \u001b[39m\u001b[32mC:\\ProgramData\\anaconda3\\Lib\\re\\__init__.py:207\u001b[39m, in \u001b[36msplit\u001b[39m\u001b[34m(pattern, string, maxsplit, flags)\u001b[39m\n\u001b[32m    199\u001b[39m \u001b[38;5;28;01mdef\u001b[39;00m\u001b[38;5;250m \u001b[39m\u001b[34msplit\u001b[39m(pattern, string, maxsplit=\u001b[32m0\u001b[39m, flags=\u001b[32m0\u001b[39m):\n\u001b[32m    200\u001b[39m \u001b[38;5;250m    \u001b[39m\u001b[33;03m\"\"\"Split the source string by the occurrences of the pattern,\u001b[39;00m\n\u001b[32m    201\u001b[39m \u001b[33;03m    returning a list containing the resulting substrings.  If\u001b[39;00m\n\u001b[32m    202\u001b[39m \u001b[33;03m    capturing parentheses are used in pattern, then the text of all\u001b[39;00m\n\u001b[32m   (...)\u001b[39m\u001b[32m    205\u001b[39m \u001b[33;03m    and the remainder of the string is returned as the final element\u001b[39;00m\n\u001b[32m    206\u001b[39m \u001b[33;03m    of the list.\"\"\"\u001b[39;00m\n\u001b[32m--> \u001b[39m\u001b[32m207\u001b[39m     \u001b[38;5;28;01mreturn\u001b[39;00m \u001b[43m_compile\u001b[49m\u001b[43m(\u001b[49m\u001b[43mpattern\u001b[49m\u001b[43m,\u001b[49m\u001b[43m \u001b[49m\u001b[43mflags\u001b[49m\u001b[43m)\u001b[49m.split(string, maxsplit)\n",
      "\u001b[36mFile \u001b[39m\u001b[32mC:\\ProgramData\\anaconda3\\Lib\\re\\__init__.py:307\u001b[39m, in \u001b[36m_compile\u001b[39m\u001b[34m(pattern, flags)\u001b[39m\n\u001b[32m    301\u001b[39m     \u001b[38;5;28;01mimport\u001b[39;00m\u001b[38;5;250m \u001b[39m\u001b[34;01mwarnings\u001b[39;00m\n\u001b[32m    302\u001b[39m     warnings.warn(\u001b[33m\"\u001b[39m\u001b[33mThe re.TEMPLATE/re.T flag is deprecated \u001b[39m\u001b[33m\"\u001b[39m\n\u001b[32m    303\u001b[39m             \u001b[33m\"\u001b[39m\u001b[33mas it is an undocumented flag \u001b[39m\u001b[33m\"\u001b[39m\n\u001b[32m    304\u001b[39m             \u001b[33m\"\u001b[39m\u001b[33mwithout an obvious purpose. \u001b[39m\u001b[33m\"\u001b[39m\n\u001b[32m    305\u001b[39m             \u001b[33m\"\u001b[39m\u001b[33mDon\u001b[39m\u001b[33m'\u001b[39m\u001b[33mt use it.\u001b[39m\u001b[33m\"\u001b[39m,\n\u001b[32m    306\u001b[39m             \u001b[38;5;167;01mDeprecationWarning\u001b[39;00m)\n\u001b[32m--> \u001b[39m\u001b[32m307\u001b[39m p = \u001b[43m_compiler\u001b[49m\u001b[43m.\u001b[49m\u001b[43mcompile\u001b[49m\u001b[43m(\u001b[49m\u001b[43mpattern\u001b[49m\u001b[43m,\u001b[49m\u001b[43m \u001b[49m\u001b[43mflags\u001b[49m\u001b[43m)\u001b[49m\n\u001b[32m    308\u001b[39m \u001b[38;5;28;01mif\u001b[39;00m flags & DEBUG:\n\u001b[32m    309\u001b[39m     \u001b[38;5;28;01mreturn\u001b[39;00m p\n",
      "\u001b[36mFile \u001b[39m\u001b[32mC:\\ProgramData\\anaconda3\\Lib\\re\\_compiler.py:749\u001b[39m, in \u001b[36mcompile\u001b[39m\u001b[34m(p, flags)\u001b[39m\n\u001b[32m    746\u001b[39m \u001b[38;5;28;01melse\u001b[39;00m:\n\u001b[32m    747\u001b[39m     pattern = \u001b[38;5;28;01mNone\u001b[39;00m\n\u001b[32m--> \u001b[39m\u001b[32m749\u001b[39m code = \u001b[43m_code\u001b[49m\u001b[43m(\u001b[49m\u001b[43mp\u001b[49m\u001b[43m,\u001b[49m\u001b[43m \u001b[49m\u001b[43mflags\u001b[49m\u001b[43m)\u001b[49m\n\u001b[32m    751\u001b[39m \u001b[38;5;28;01mif\u001b[39;00m flags & SRE_FLAG_DEBUG:\n\u001b[32m    752\u001b[39m     \u001b[38;5;28mprint\u001b[39m()\n",
      "\u001b[36mFile \u001b[39m\u001b[32mC:\\ProgramData\\anaconda3\\Lib\\re\\_compiler.py:582\u001b[39m, in \u001b[36m_code\u001b[39m\u001b[34m(p, flags)\u001b[39m\n\u001b[32m    579\u001b[39m _compile_info(code, p, flags)\n\u001b[32m    581\u001b[39m \u001b[38;5;66;03m# compile the pattern\u001b[39;00m\n\u001b[32m--> \u001b[39m\u001b[32m582\u001b[39m \u001b[43m_compile\u001b[49m\u001b[43m(\u001b[49m\u001b[43mcode\u001b[49m\u001b[43m,\u001b[49m\u001b[43m \u001b[49m\u001b[43mp\u001b[49m\u001b[43m.\u001b[49m\u001b[43mdata\u001b[49m\u001b[43m,\u001b[49m\u001b[43m \u001b[49m\u001b[43mflags\u001b[49m\u001b[43m)\u001b[49m\n\u001b[32m    584\u001b[39m code.append(SUCCESS)\n\u001b[32m    586\u001b[39m \u001b[38;5;28;01mreturn\u001b[39;00m code\n",
      "\u001b[36mFile \u001b[39m\u001b[32mC:\\ProgramData\\anaconda3\\Lib\\re\\_compiler.py:155\u001b[39m, in \u001b[36m_compile\u001b[39m\u001b[34m(code, pattern, flags)\u001b[39m\n\u001b[32m    153\u001b[39m         \u001b[38;5;28;01mraise\u001b[39;00m error(\u001b[33m\"\u001b[39m\u001b[33mlooks too much behind\u001b[39m\u001b[33m\"\u001b[39m)\n\u001b[32m    154\u001b[39m     \u001b[38;5;28;01mif\u001b[39;00m lo != hi:\n\u001b[32m--> \u001b[39m\u001b[32m155\u001b[39m         \u001b[38;5;28;01mraise\u001b[39;00m error(\u001b[33m\"\u001b[39m\u001b[33mlook-behind requires fixed-width pattern\u001b[39m\u001b[33m\"\u001b[39m)\n\u001b[32m    156\u001b[39m     emit(lo) \u001b[38;5;66;03m# look behind\u001b[39;00m\n\u001b[32m    157\u001b[39m _compile(code, av[\u001b[32m1\u001b[39m], flags)\n",
      "\u001b[31merror\u001b[39m: look-behind requires fixed-width pattern"
     ]
    }
   ],
   "source": [
    "# Step 3: Chunk document\n",
    "chunker = DefaultChunker()\n",
    "chunks = chunker.chunk(text)"
   ]
  },
  {
   "cell_type": "code",
   "execution_count": null,
   "id": "fe556677",
   "metadata": {},
   "outputs": [
    {
     "data": {
      "text/plain": [
       "'e'"
      ]
     },
     "execution_count": 16,
     "metadata": {},
     "output_type": "execute_result"
    }
   ],
   "source": [
    "chunks[12]"
   ]
  }
 ],
 "metadata": {
  "kernelspec": {
   "display_name": ".venv",
   "language": "python",
   "name": "python3"
  },
  "language_info": {
   "codemirror_mode": {
    "name": "ipython",
    "version": 3
   },
   "file_extension": ".py",
   "mimetype": "text/x-python",
   "name": "python",
   "nbconvert_exporter": "python",
   "pygments_lexer": "ipython3",
   "version": "3.12.7"
  }
 },
 "nbformat": 4,
 "nbformat_minor": 5
}
