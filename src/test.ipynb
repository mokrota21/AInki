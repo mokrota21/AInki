{
 "cells": [
  {
   "cell_type": "code",
   "execution_count": 1,
   "id": "c1fc4c17",
   "metadata": {},
   "outputs": [],
   "source": [
    "from neo4j import GraphDatabase\n",
    "from dotenv import load_dotenv\n",
    "import os\n",
    "load_dotenv()\n",
    "\n",
    "URI = \"neo4j+s://e5703e68.databases.neo4j.io\"\n",
    "AUTH = (os.getenv(\"NEO4J_USERNAME\"), os.getenv(\"NEO4J_PASSWORD\"))"
   ]
  },
  {
   "cell_type": "code",
   "execution_count": 6,
   "id": "10914007",
   "metadata": {},
   "outputs": [
    {
     "name": "stdout",
     "output_type": "stream",
     "text": [
      "True\n",
      "None\n"
     ]
    }
   ],
   "source": [
    "driver = GraphDatabase.driver(URI, auth=AUTH)\n",
    "print(driver.verify_authentication())\n",
    "print(driver.verify_connectivity())"
   ]
  },
  {
   "cell_type": "code",
   "execution_count": 7,
   "id": "8ef814f2",
   "metadata": {},
   "outputs": [
    {
     "name": "stdout",
     "output_type": "stream",
     "text": [
      "Created 2 nodes in 1 ms.\n"
     ]
    }
   ],
   "source": [
    "summary = driver.execute_query(\"\"\"\n",
    "    CREATE (a:Person {name: $name})\n",
    "    CREATE (b:Person {name: $friendName})\n",
    "    CREATE (a)-[:KNOWS]->(b)\n",
    "    \"\"\",\n",
    "    name=\"Alice\", friendName=\"David\",\n",
    "    database_=\"e5703e68\",\n",
    ").summary\n",
    "print(\"Created {nodes_created} nodes in {time} ms.\".format(\n",
    "    nodes_created=summary.counters.nodes_created,\n",
    "    time=summary.result_available_after\n",
    "))"
   ]
  },
  {
   "cell_type": "code",
   "execution_count": 12,
   "id": "90fe2a06",
   "metadata": {},
   "outputs": [
    {
     "name": "stdout",
     "output_type": "stream",
     "text": [
      "{'name': 'Alice', 'know_name': 'David'}\n",
      "The query `\n",
      "    MATCH (p:Person)-[:KNOWS]->(k:Person)\n",
      "    RETURN p.name AS name, k.name as know_name\n",
      "    ` returned 1 records in 1 ms.\n"
     ]
    }
   ],
   "source": [
    "records, summary, keys = driver.execute_query(\"\"\"\n",
    "    MATCH (p:Person)-[:KNOWS]->(k:Person)\n",
    "    RETURN p.name AS name, k.name as know_name\n",
    "    \"\"\",\n",
    "    database_=\"e5703e68\",\n",
    ")\n",
    "\n",
    "# Loop through results and do something with them\n",
    "for record in records:\n",
    "    print(record.data())  # obtain record as dict\n",
    "\n",
    "# Summary information\n",
    "print(\"The query `{query}` returned {records_count} records in {time} ms.\".format(\n",
    "    query=summary.query, records_count=len(records),\n",
    "    time=summary.result_available_after\n",
    "))"
   ]
  },
  {
   "cell_type": "code",
   "execution_count": null,
   "id": "453b3708",
   "metadata": {},
   "outputs": [],
   "source": []
  }
 ],
 "metadata": {
  "kernelspec": {
   "display_name": ".venv",
   "language": "python",
   "name": "python3"
  },
  "language_info": {
   "codemirror_mode": {
    "name": "ipython",
    "version": 3
   },
   "file_extension": ".py",
   "mimetype": "text/x-python",
   "name": "python",
   "nbconvert_exporter": "python",
   "pygments_lexer": "ipython3",
   "version": "3.12.7"
  }
 },
 "nbformat": 4,
 "nbformat_minor": 5
}
